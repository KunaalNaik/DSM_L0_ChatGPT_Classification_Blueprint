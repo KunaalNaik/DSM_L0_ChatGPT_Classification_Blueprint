{
 "cells": [
  {
   "cell_type": "markdown",
   "id": "02653f99-31ea-4b7a-8055-b3c2dc642120",
   "metadata": {
    "tags": []
   },
   "source": [
    "# Pipeline\n",
    "\n",
    "- Import Packages\n",
    "- Import Data (train, test, sample_submission)\n",
    "- Check Data\n",
    "- Check Target Feature\n",
    "- Partition Data into y and X (train, test)\n",
    "- Extract numerical and categorical feature names\n",
    "- Validation Strategy – train test split\n",
    "- Pre-processing framework (Basic)\n",
    "- Build Model and Make Predictions\n",
    "- Make and Export Submission File"
   ]
  },
  {
   "cell_type": "markdown",
   "id": "32a91de1-5599-4cab-aace-43d9df0fe3cf",
   "metadata": {},
   "source": [
    "# Critical Thinking (Asking Questions)\n",
    "\n",
    "- Why\n",
    "- What\n",
    "- When\n",
    "- How\n",
    "- Where "
   ]
  },
  {
   "cell_type": "markdown",
   "id": "affffd94-964f-43ce-a89b-cec702ed6ce1",
   "metadata": {},
   "source": [
    "# 1/ Import Packages"
   ]
  },
  {
   "cell_type": "code",
   "execution_count": 11,
   "id": "e03d25bf-a8a2-4435-a17d-831fe8aed5b2",
   "metadata": {},
   "outputs": [],
   "source": [
    "# Importing necessary packages\n",
    "import pandas as pd\n",
    "from sklearn.model_selection import train_test_split\n",
    "from sklearn.preprocessing import StandardScaler\n",
    "from sklearn.linear_model import LogisticRegression\n",
    "from sklearn.metrics import classification_report\n",
    "import matplotlib.pyplot as plt"
   ]
  },
  {
   "cell_type": "markdown",
   "id": "59e76e01-89ba-4509-aa7f-5f05dd3d726a",
   "metadata": {},
   "source": [
    "# 2/ Import Data"
   ]
  },
  {
   "cell_type": "code",
   "execution_count": 2,
   "id": "69191e6e-f82a-429b-90bf-c9747cf7077f",
   "metadata": {},
   "outputs": [],
   "source": [
    "# Read train data\n",
    "train_path = 'input/train.csv'\n",
    "train = pd.read_csv(train_path)\n",
    "\n",
    "# Read test data\n",
    "test_path = 'input/test.csv'\n",
    "test = pd.read_csv(test_path)\n",
    "\n",
    "# Read sample submission data\n",
    "submission_path = 'input/sample_submission.csv'\n",
    "submission = pd.read_csv(submission_path)"
   ]
  },
  {
   "cell_type": "markdown",
   "id": "9ecfd5aa-5066-425c-9872-219b24e7157b",
   "metadata": {},
   "source": [
    "# 3/ Check Data\n",
    "Checking data is a crucial step in the data analysis process, especially when working with datasets in data science. It helps you understand the structure and content of your data, identify potential issues, and make informed decisions about preprocessing, cleaning, and analysis. Here's why and how to check data, presented in bullet points, along with code examples:\n",
    "\n",
    "**Why Check Data:**\n",
    "\n",
    "- **Data Quality:** Ensures data is accurate, consistent, and reliable.\n",
    "- **Data Exploration:** Helps you understand the distribution of features and target variables.\n",
    "- **Missing Values:** Identifies missing or null values that might need to be handled.\n",
    "- **Outliers:** Detects unusual or erroneous data points that could impact analysis.\n",
    "- **Data Types:** Verifies if columns have appropriate data types.\n",
    "- **Feature Engineering:** Offers insights for creating new features or transformations."
   ]
  },
  {
   "cell_type": "code",
   "execution_count": 4,
   "id": "ade826ad-298a-4cbe-b2b5-c507bbe11f8e",
   "metadata": {},
   "outputs": [
    {
     "name": "stdout",
     "output_type": "stream",
     "text": [
      "DataFrame Info:\n",
      "<class 'pandas.core.frame.DataFrame'>\n",
      "RangeIndex: 18359 entries, 0 to 18358\n",
      "Data columns (total 14 columns):\n",
      " #   Column                  Non-Null Count  Dtype  \n",
      "---  ------                  --------------  -----  \n",
      " 0   enrollee_id             18359 non-null  int64  \n",
      " 1   city                    18359 non-null  object \n",
      " 2   city_development_index  18359 non-null  float64\n",
      " 3   gender                  14261 non-null  object \n",
      " 4   relevent_experience     18359 non-null  object \n",
      " 5   enrolled_university     18017 non-null  object \n",
      " 6   education_level         17902 non-null  object \n",
      " 7   major_discipline        15521 non-null  object \n",
      " 8   experience              18300 non-null  object \n",
      " 9   company_size            13580 non-null  object \n",
      " 10  company_type            13320 non-null  object \n",
      " 11  last_new_job            17992 non-null  object \n",
      " 12  training_hours          18359 non-null  int64  \n",
      " 13  target                  18359 non-null  int64  \n",
      "dtypes: float64(1), int64(3), object(10)\n",
      "memory usage: 2.0+ MB\n",
      "None\n"
     ]
    }
   ],
   "source": [
    "# Display basic information about the DataFrame\n",
    "print(\"DataFrame Info:\")\n",
    "print(train.info())"
   ]
  },
  {
   "cell_type": "code",
   "execution_count": 5,
   "id": "265e2587-b8e1-451a-876f-92d6b8c318bc",
   "metadata": {},
   "outputs": [
    {
     "name": "stdout",
     "output_type": "stream",
     "text": [
      "\n",
      "Summary Statistics:\n",
      "        enrollee_id  city_development_index  training_hours        target\n",
      "count  18359.000000            18359.000000    18359.000000  18359.000000\n",
      "mean   16729.360096                0.847140       65.899014      0.132088\n",
      "std     9643.749725                0.110189       60.885300      0.338595\n",
      "min        1.000000                0.448000        1.000000      0.000000\n",
      "25%     8378.500000                0.796000       23.000000      0.000000\n",
      "50%    16706.000000                0.910000       47.000000      0.000000\n",
      "75%    25148.500000                0.920000       89.000000      0.000000\n",
      "max    33380.000000                0.949000      336.000000      1.000000\n"
     ]
    }
   ],
   "source": [
    "# Display summary statistics of numeric columns\n",
    "print(\"\\nSummary Statistics:\")\n",
    "print(train.describe())"
   ]
  },
  {
   "cell_type": "code",
   "execution_count": 7,
   "id": "6544c140-43e7-4d3f-ba0a-2affa4e58f4a",
   "metadata": {},
   "outputs": [
    {
     "name": "stdout",
     "output_type": "stream",
     "text": [
      "\n",
      "First Few Rows:\n"
     ]
    },
    {
     "data": {
      "text/html": [
       "<div>\n",
       "<style scoped>\n",
       "    .dataframe tbody tr th:only-of-type {\n",
       "        vertical-align: middle;\n",
       "    }\n",
       "\n",
       "    .dataframe tbody tr th {\n",
       "        vertical-align: top;\n",
       "    }\n",
       "\n",
       "    .dataframe thead th {\n",
       "        text-align: right;\n",
       "    }\n",
       "</style>\n",
       "<table border=\"1\" class=\"dataframe\">\n",
       "  <thead>\n",
       "    <tr style=\"text-align: right;\">\n",
       "      <th></th>\n",
       "      <th>enrollee_id</th>\n",
       "      <th>city</th>\n",
       "      <th>city_development_index</th>\n",
       "      <th>gender</th>\n",
       "      <th>relevent_experience</th>\n",
       "      <th>enrolled_university</th>\n",
       "      <th>education_level</th>\n",
       "      <th>major_discipline</th>\n",
       "      <th>experience</th>\n",
       "      <th>company_size</th>\n",
       "      <th>company_type</th>\n",
       "      <th>last_new_job</th>\n",
       "      <th>training_hours</th>\n",
       "      <th>target</th>\n",
       "    </tr>\n",
       "  </thead>\n",
       "  <tbody>\n",
       "    <tr>\n",
       "      <th>0</th>\n",
       "      <td>23798</td>\n",
       "      <td>city_149</td>\n",
       "      <td>0.689</td>\n",
       "      <td>Male</td>\n",
       "      <td>Has relevent experience</td>\n",
       "      <td>no_enrollment</td>\n",
       "      <td>Graduate</td>\n",
       "      <td>STEM</td>\n",
       "      <td>3</td>\n",
       "      <td>100-500</td>\n",
       "      <td>Pvt Ltd</td>\n",
       "      <td>1</td>\n",
       "      <td>106</td>\n",
       "      <td>0</td>\n",
       "    </tr>\n",
       "    <tr>\n",
       "      <th>1</th>\n",
       "      <td>29166</td>\n",
       "      <td>city_83</td>\n",
       "      <td>0.923</td>\n",
       "      <td>Male</td>\n",
       "      <td>Has relevent experience</td>\n",
       "      <td>no_enrollment</td>\n",
       "      <td>Graduate</td>\n",
       "      <td>STEM</td>\n",
       "      <td>14</td>\n",
       "      <td>&lt;10</td>\n",
       "      <td>Funded Startup</td>\n",
       "      <td>1</td>\n",
       "      <td>69</td>\n",
       "      <td>0</td>\n",
       "    </tr>\n",
       "    <tr>\n",
       "      <th>2</th>\n",
       "      <td>46</td>\n",
       "      <td>city_16</td>\n",
       "      <td>0.910</td>\n",
       "      <td>NaN</td>\n",
       "      <td>Has relevent experience</td>\n",
       "      <td>no_enrollment</td>\n",
       "      <td>Graduate</td>\n",
       "      <td>STEM</td>\n",
       "      <td>6</td>\n",
       "      <td>50-99</td>\n",
       "      <td>Public Sector</td>\n",
       "      <td>2</td>\n",
       "      <td>4</td>\n",
       "      <td>0</td>\n",
       "    </tr>\n",
       "    <tr>\n",
       "      <th>3</th>\n",
       "      <td>18527</td>\n",
       "      <td>city_64</td>\n",
       "      <td>0.666</td>\n",
       "      <td>Male</td>\n",
       "      <td>Has relevent experience</td>\n",
       "      <td>no_enrollment</td>\n",
       "      <td>Graduate</td>\n",
       "      <td>STEM</td>\n",
       "      <td>14</td>\n",
       "      <td>50-99</td>\n",
       "      <td>Pvt Ltd</td>\n",
       "      <td>1</td>\n",
       "      <td>26</td>\n",
       "      <td>0</td>\n",
       "    </tr>\n",
       "    <tr>\n",
       "      <th>4</th>\n",
       "      <td>21751</td>\n",
       "      <td>city_100</td>\n",
       "      <td>0.887</td>\n",
       "      <td>NaN</td>\n",
       "      <td>No relevent experience</td>\n",
       "      <td>no_enrollment</td>\n",
       "      <td>Masters</td>\n",
       "      <td>STEM</td>\n",
       "      <td>8</td>\n",
       "      <td>NaN</td>\n",
       "      <td>NaN</td>\n",
       "      <td>2</td>\n",
       "      <td>88</td>\n",
       "      <td>1</td>\n",
       "    </tr>\n",
       "  </tbody>\n",
       "</table>\n",
       "</div>"
      ],
      "text/plain": [
       "   enrollee_id      city  city_development_index gender  \\\n",
       "0        23798  city_149                   0.689   Male   \n",
       "1        29166   city_83                   0.923   Male   \n",
       "2           46   city_16                   0.910    NaN   \n",
       "3        18527   city_64                   0.666   Male   \n",
       "4        21751  city_100                   0.887    NaN   \n",
       "\n",
       "       relevent_experience enrolled_university education_level  \\\n",
       "0  Has relevent experience       no_enrollment        Graduate   \n",
       "1  Has relevent experience       no_enrollment        Graduate   \n",
       "2  Has relevent experience       no_enrollment        Graduate   \n",
       "3  Has relevent experience       no_enrollment        Graduate   \n",
       "4   No relevent experience       no_enrollment         Masters   \n",
       "\n",
       "  major_discipline experience company_size    company_type last_new_job  \\\n",
       "0             STEM          3      100-500         Pvt Ltd            1   \n",
       "1             STEM         14          <10  Funded Startup            1   \n",
       "2             STEM          6        50-99   Public Sector            2   \n",
       "3             STEM         14        50-99         Pvt Ltd            1   \n",
       "4             STEM          8          NaN             NaN            2   \n",
       "\n",
       "   training_hours  target  \n",
       "0             106       0  \n",
       "1              69       0  \n",
       "2               4       0  \n",
       "3              26       0  \n",
       "4              88       1  "
      ]
     },
     "execution_count": 7,
     "metadata": {},
     "output_type": "execute_result"
    }
   ],
   "source": [
    "# Display the first few rows of the train DataFrame\n",
    "print(\"\\nFirst Few Rows:\")\n",
    "train.head()"
   ]
  },
  {
   "cell_type": "code",
   "execution_count": 8,
   "id": "10890735-7e6f-4e5d-86a2-998967639261",
   "metadata": {},
   "outputs": [
    {
     "name": "stdout",
     "output_type": "stream",
     "text": [
      "\n",
      "Missing Values:\n",
      "enrollee_id                  0\n",
      "city                         0\n",
      "city_development_index       0\n",
      "gender                    4098\n",
      "relevent_experience          0\n",
      "enrolled_university        342\n",
      "education_level            457\n",
      "major_discipline          2838\n",
      "experience                  59\n",
      "company_size              4779\n",
      "company_type              5039\n",
      "last_new_job               367\n",
      "training_hours               0\n",
      "target                       0\n",
      "dtype: int64\n"
     ]
    }
   ],
   "source": [
    "# Check for missing values in the train DataFrame\n",
    "print(\"\\nMissing Values:\")\n",
    "print(train.isnull().sum())"
   ]
  },
  {
   "cell_type": "code",
   "execution_count": 9,
   "id": "193eaccd-ba04-4ae4-81e1-096a719f857c",
   "metadata": {},
   "outputs": [
    {
     "name": "stdout",
     "output_type": "stream",
     "text": [
      "\n",
      "Unique Values in Categorical Columns:\n",
      "city: ['city_149' 'city_83' 'city_16' 'city_64' 'city_100' 'city_21' 'city_114'\n",
      " 'city_103' 'city_97' 'city_160' 'city_65' 'city_90' 'city_75' 'city_136'\n",
      " 'city_159' 'city_67' 'city_28' 'city_10' 'city_73' 'city_76' 'city_104'\n",
      " 'city_27' 'city_30' 'city_61' 'city_99' 'city_41' 'city_142' 'city_9'\n",
      " 'city_116' 'city_128' 'city_74' 'city_69' 'city_1' 'city_176' 'city_40'\n",
      " 'city_123' 'city_152' 'city_165' 'city_89' 'city_36' 'city_44' 'city_46'\n",
      " 'city_45' 'city_134' 'city_93' 'city_180' 'city_162' 'city_84' 'city_138'\n",
      " 'city_173' 'city_19' 'city_71' 'city_158' 'city_23' 'city_102' 'city_105'\n",
      " 'city_91' 'city_11' 'city_13' 'city_57' 'city_20' 'city_14' 'city_37'\n",
      " 'city_115' 'city_50' 'city_167' 'city_12' 'city_143' 'city_126' 'city_77'\n",
      " 'city_101' 'city_150' 'city_179' 'city_107' 'city_175' 'city_146'\n",
      " 'city_98' 'city_166' 'city_118' 'city_129' 'city_127' 'city_24' 'city_81'\n",
      " 'city_26' 'city_139' 'city_94' 'city_70' 'city_145' 'city_157' 'city_111'\n",
      " 'city_78' 'city_80' 'city_33' 'city_7' 'city_72' 'city_43' 'city_144'\n",
      " 'city_39' 'city_59' 'city_48' 'city_131' 'city_121' 'city_141' 'city_42'\n",
      " 'city_117' 'city_55' 'city_54' 'city_8' 'city_62' 'city_53' 'city_106'\n",
      " 'city_155' 'city_133' 'city_171' 'city_2' 'city_120' 'city_18' 'city_79'\n",
      " 'city_31' 'city_109' 'city_25' 'city_82' 'city_140']\n",
      "gender: ['Male' nan 'Female' 'Other']\n",
      "relevent_experience: ['Has relevent experience' 'No relevent experience']\n",
      "enrolled_university: ['no_enrollment' 'Full time course' 'Part time course' nan]\n",
      "education_level: ['Graduate' 'Masters' 'High School' 'Phd' nan 'Primary School']\n",
      "major_discipline: ['STEM' 'Other' 'No Major' nan 'Business Degree' 'Arts' 'Humanities']\n",
      "experience: ['3' '14' '6' '8' '>20' '4' '9' '15' '10' '1' '5' '16' '11' '12' '7' '2'\n",
      " '13' '<1' '19' '18' '17' nan '20']\n",
      "company_size: ['100-500' '<10' '50-99' nan '5000-9999' '10000+' '1000-4999' '500-999'\n",
      " '10/49']\n",
      "company_type: ['Pvt Ltd' 'Funded Startup' 'Public Sector' nan 'Early Stage Startup'\n",
      " 'NGO' 'Other']\n",
      "last_new_job: ['1' '2' '3' '>4' 'never' '4' nan]\n"
     ]
    }
   ],
   "source": [
    "# Check unique values in categorical columns of the train DataFrame\n",
    "print(\"\\nUnique Values in Categorical Columns:\")\n",
    "for column in train.select_dtypes(include=['object']).columns:\n",
    "    print(f\"{column}: {train[column].unique()}\")"
   ]
  },
  {
   "cell_type": "code",
   "execution_count": 12,
   "id": "205a9b84-c433-4194-94dc-e3f415474525",
   "metadata": {},
   "outputs": [
    {
     "data": {
      "image/png": "[encoded data removed]",
      "text/plain": [
       "<Figure size 1200x600 with 1 Axes>"
      ]
     },
     "metadata": {},
     "output_type": "display_data"
    }
   ],
   "source": [
    "# Check for outliers using box plots in the train DataFrame\n",
    "train.plot(kind='box', vert=False, figsize=(12, 6))\n",
    "plt.title(\"Box Plot of Numeric Features in Train Data\")\n",
    "plt.show()"
   ]
  },
  {
   "cell_type": "markdown",
   "id": "a8760fed-88cf-4746-9522-79c9aba9578c",
   "metadata": {
    "tags": []
   },
   "source": [
    "# 4/ Check Target"
   ]
  },
  {
   "cell_type": "code",
   "execution_count": 13,
   "id": "0cd6c1e5-2d93-4bba-840a-9f306aa74cb3",
   "metadata": {},
   "outputs": [],
   "source": [
    "# Check class imbalance in the target column\n",
    "class_counts = train['target'].value_counts()\n",
    "class_imbalance_percentage = class_counts / len(train) * 100"
   ]
  },
  {
   "cell_type": "code",
   "execution_count": 14,
   "id": "54d4b712-4d00-47a9-821b-880a7886f62f",
   "metadata": {},
   "outputs": [
    {
     "name": "stdout",
     "output_type": "stream",
     "text": [
      "Class Counts:\n",
      "0    15934\n",
      "1     2425\n",
      "Name: target, dtype: int64\n"
     ]
    }
   ],
   "source": [
    "print(\"Class Counts:\")\n",
    "print(class_counts)"
   ]
  },
  {
   "cell_type": "code",
   "execution_count": 15,
   "id": "53a2bbc0-8ba2-4cfa-801f-27fe2c499a18",
   "metadata": {},
   "outputs": [
    {
     "name": "stdout",
     "output_type": "stream",
     "text": [
      "\n",
      "Class Imbalance Percentage:\n",
      "0    86.79122\n",
      "1    13.20878\n",
      "Name: target, dtype: float64\n"
     ]
    }
   ],
   "source": [
    "print(\"\\nClass Imbalance Percentage:\")\n",
    "print(class_imbalance_percentage)"
   ]
  },
  {
   "cell_type": "markdown",
   "id": "9f7fc294-d016-4a5b-b529-e4ceb36de920",
   "metadata": {},
   "source": [
    "# 5/ Partition Data\n",
    "- y and X (train, test)\n",
    "- Train Test Split"
   ]
  },
  {
   "cell_type": "code",
   "execution_count": 16,
   "id": "07d51d0d-7ea2-4ef3-a903-44350955a785",
   "metadata": {},
   "outputs": [],
   "source": [
    "# Separate the target column from the train data\n",
    "y = train['target']\n",
    "X = train.drop(['enrollee_id', 'target'], axis=1)  # Exclude 'enrollee_id' and 'target'\n",
    "\n",
    "# Split the test data into X_test\n",
    "X_test = test.drop('enrollee_id', axis=1)  # Exclude 'enrollee_id'"
   ]
  },
  {
   "cell_type": "code",
   "execution_count": 17,
   "id": "fa356b18-173a-4c1c-b9a4-88ddb2c99b41",
   "metadata": {},
   "outputs": [],
   "source": [
    "# Split X and y into training and validation sets\n",
    "X_train, X_val, y_train, y_val = train_test_split(X, y, test_size=0.2, random_state=42)"
   ]
  },
  {
   "cell_type": "code",
   "execution_count": 18,
   "id": "2e2a12c8-1e07-4cd9-863e-f2fd354a5287",
   "metadata": {},
   "outputs": [
    {
     "name": "stdout",
     "output_type": "stream",
     "text": [
      "Shapes of Datasets:\n",
      "X_train: (14687, 12)\n",
      "X_val: (3672, 12)\n",
      "y_train: (14687,)\n",
      "y_val: (3672,)\n",
      "X_test: (15021, 12)\n"
     ]
    }
   ],
   "source": [
    "# Print the shapes of the resulting datasets\n",
    "print(\"Shapes of Datasets:\")\n",
    "print(\"X_train:\", X_train.shape)\n",
    "print(\"X_val:\", X_val.shape)\n",
    "print(\"y_train:\", y_train.shape)\n",
    "print(\"y_val:\", y_val.shape)\n",
    "print(\"X_test:\", X_test.shape)"
   ]
  },
  {
   "cell_type": "markdown",
   "id": "bc6519ef-21e2-4cbb-b359-17f0aa7bedf9",
   "metadata": {},
   "source": [
    "# 6/ Extract numerical and categorical feature names"
   ]
  },
  {
   "cell_type": "code",
   "execution_count": null,
   "id": "5919db06-3f18-438a-9002-b798e48bf6f5",
   "metadata": {},
   "outputs": [],
   "source": []
  },
  {
   "cell_type": "code",
   "execution_count": null,
   "id": "973374f3-0d75-4e51-8d6b-8c830f047334",
   "metadata": {},
   "outputs": [],
   "source": []
  },
  {
   "cell_type": "markdown",
   "id": "3c457099-2f60-420c-aacf-af94e9c3de3d",
   "metadata": {},
   "source": [
    "# Pre Processing (Theory)"
   ]
  },
  {
   "cell_type": "markdown",
   "id": "56ea3666-2021-4f69-8d93-6508ee55c369",
   "metadata": {},
   "source": [
    "# 7/ Pre Processing - Getting Started"
   ]
  },
  {
   "cell_type": "code",
   "execution_count": null,
   "id": "f0db6b34-f6a3-4f10-9966-2ee558ff3e99",
   "metadata": {},
   "outputs": [],
   "source": []
  },
  {
   "cell_type": "code",
   "execution_count": null,
   "id": "7cdd968e-e1e2-4c26-b625-52e45c94d366",
   "metadata": {},
   "outputs": [],
   "source": []
  },
  {
   "cell_type": "code",
   "execution_count": null,
   "id": "6753b2fa-ca7e-42c0-b00f-f407c5326e6b",
   "metadata": {},
   "outputs": [],
   "source": []
  },
  {
   "cell_type": "code",
   "execution_count": null,
   "id": "db0a12f4-353f-417c-93f6-0b4ae4109d72",
   "metadata": {},
   "outputs": [],
   "source": []
  },
  {
   "cell_type": "markdown",
   "id": "0baafb7c-934d-42af-bc15-a3a3d795387f",
   "metadata": {},
   "source": [
    "# Model"
   ]
  },
  {
   "cell_type": "code",
   "execution_count": null,
   "id": "431167da-4037-49ad-a1d3-0611dac80eec",
   "metadata": {},
   "outputs": [],
   "source": []
  },
  {
   "cell_type": "markdown",
   "id": "1e00223e-c27a-42d9-88a9-7b678e0b7f8c",
   "metadata": {},
   "source": [
    "# Predict"
   ]
  },
  {
   "cell_type": "code",
   "execution_count": null,
   "id": "a75d0615-2dff-4795-8e0b-6b003cd2d7f4",
   "metadata": {},
   "outputs": [],
   "source": []
  },
  {
   "cell_type": "code",
   "execution_count": null,
   "id": "3eb20232-0b87-4d2d-8e7e-3b0daabbb932",
   "metadata": {},
   "outputs": [],
   "source": []
  },
  {
   "cell_type": "markdown",
   "id": "2cdb08f8-adaa-46e6-a777-b3ccf24b8854",
   "metadata": {},
   "source": [
    "# Check Accuracy"
   ]
  },
  {
   "cell_type": "code",
   "execution_count": null,
   "id": "3491be7d-9c4c-4413-a117-b60934a39b82",
   "metadata": {},
   "outputs": [],
   "source": []
  },
  {
   "cell_type": "code",
   "execution_count": null,
   "id": "6b9c9580-9a90-429b-815c-276fd87e330f",
   "metadata": {},
   "outputs": [],
   "source": []
  },
  {
   "cell_type": "code",
   "execution_count": null,
   "id": "aeddbc70-825f-40b9-8f25-bef81b124995",
   "metadata": {},
   "outputs": [],
   "source": []
  },
  {
   "cell_type": "markdown",
   "id": "98027065-5572-417c-920e-7ab3a1dd2091",
   "metadata": {},
   "source": [
    "# Make Submission and Export "
   ]
  },
  {
   "cell_type": "code",
   "execution_count": null,
   "id": "40724db5-bb9f-4409-bf33-0be11184d298",
   "metadata": {},
   "outputs": [],
   "source": []
  },
  {
   "cell_type": "code",
   "execution_count": null,
   "id": "a142d95e-0a2a-40cd-a229-176ebceb67e0",
   "metadata": {},
   "outputs": [],
   "source": []
  },
  {
   "cell_type": "code",
   "execution_count": null,
   "id": "3e5568c4-f3f1-4528-b2c8-f2322c249efc",
   "metadata": {},
   "outputs": [],
   "source": []
  }
 ],
 "metadata": {
  "kernelspec": {
   "display_name": "Python 3 (ipykernel)",
   "language": "python",
   "name": "python3"
  },
  "language_info": {
   "codemirror_mode": {
    "name": "ipython",
    "version": 3
   },
   "file_extension": ".py",
   "mimetype": "text/x-python",
   "name": "python",
   "nbconvert_exporter": "python",
   "pygments_lexer": "ipython3",
   "version": "3.10.9"
  }
 },
 "nbformat": 4,
 "nbformat_minor": 5
}
