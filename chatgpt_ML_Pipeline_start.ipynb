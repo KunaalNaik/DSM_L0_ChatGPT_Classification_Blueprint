{
 "cells": [
  {
   "cell_type": "markdown",
   "id": "02653f99-31ea-4b7a-8055-b3c2dc642120",
   "metadata": {
    "tags": []
   },
   "source": [
    "# Pipeline\n",
    "\n",
    "- Import Packages\n",
    "- Import Data (train, test, sample_submission)\n",
    "- Check Data\n",
    "- Check Target Feature\n",
    "- Partition Data into y and X (train, test)\n",
    "- Extract numerical and categorical feature names\n",
    "- Validation Strategy – train test split\n",
    "- Pre-processing framework (Basic)\n",
    "- Build Model and Make Predictions\n",
    "- Make and Export Submission File"
   ]
  },
  {
   "cell_type": "markdown",
   "id": "32a91de1-5599-4cab-aace-43d9df0fe3cf",
   "metadata": {},
   "source": [
    "# Critical Thinking (Asking Questions)\n",
    "\n",
    "- Why\n",
    "- What\n",
    "- When\n",
    "- How\n",
    "- Where "
   ]
  },
  {
   "cell_type": "markdown",
   "id": "affffd94-964f-43ce-a89b-cec702ed6ce1",
   "metadata": {},
   "source": [
    "# 1/ Import Packages"
   ]
  },
  {
   "cell_type": "code",
   "execution_count": null,
   "id": "e03d25bf-a8a2-4435-a17d-831fe8aed5b2",
   "metadata": {},
   "outputs": [],
   "source": []
  },
  {
   "cell_type": "markdown",
   "id": "59e76e01-89ba-4509-aa7f-5f05dd3d726a",
   "metadata": {},
   "source": [
    "# 2/ Import Data"
   ]
  },
  {
   "cell_type": "code",
   "execution_count": null,
   "id": "69191e6e-f82a-429b-90bf-c9747cf7077f",
   "metadata": {},
   "outputs": [],
   "source": []
  },
  {
   "cell_type": "markdown",
   "id": "9ecfd5aa-5066-425c-9872-219b24e7157b",
   "metadata": {},
   "source": [
    "# 3/ Check Data"
   ]
  },
  {
   "cell_type": "code",
   "execution_count": null,
   "id": "ade826ad-298a-4cbe-b2b5-c507bbe11f8e",
   "metadata": {},
   "outputs": [],
   "source": []
  },
  {
   "cell_type": "code",
   "execution_count": null,
   "id": "265e2587-b8e1-451a-876f-92d6b8c318bc",
   "metadata": {},
   "outputs": [],
   "source": []
  },
  {
   "cell_type": "code",
   "execution_count": null,
   "id": "6544c140-43e7-4d3f-ba0a-2affa4e58f4a",
   "metadata": {},
   "outputs": [],
   "source": []
  },
  {
   "cell_type": "code",
   "execution_count": null,
   "id": "10890735-7e6f-4e5d-86a2-998967639261",
   "metadata": {},
   "outputs": [],
   "source": []
  },
  {
   "cell_type": "markdown",
   "id": "a8760fed-88cf-4746-9522-79c9aba9578c",
   "metadata": {
    "tags": []
   },
   "source": [
    "# 4/ Check Target"
   ]
  },
  {
   "cell_type": "code",
   "execution_count": null,
   "id": "0cd6c1e5-2d93-4bba-840a-9f306aa74cb3",
   "metadata": {},
   "outputs": [],
   "source": []
  },
  {
   "cell_type": "code",
   "execution_count": null,
   "id": "54d4b712-4d00-47a9-821b-880a7886f62f",
   "metadata": {},
   "outputs": [],
   "source": []
  },
  {
   "cell_type": "code",
   "execution_count": null,
   "id": "53a2bbc0-8ba2-4cfa-801f-27fe2c499a18",
   "metadata": {},
   "outputs": [],
   "source": []
  },
  {
   "cell_type": "markdown",
   "id": "9f7fc294-d016-4a5b-b529-e4ceb36de920",
   "metadata": {},
   "source": [
    "# 5/ Partition Data\n",
    "- y and X (train, test)\n",
    "- Train Test Split"
   ]
  },
  {
   "cell_type": "code",
   "execution_count": null,
   "id": "07d51d0d-7ea2-4ef3-a903-44350955a785",
   "metadata": {},
   "outputs": [],
   "source": []
  },
  {
   "cell_type": "code",
   "execution_count": null,
   "id": "fa356b18-173a-4c1c-b9a4-88ddb2c99b41",
   "metadata": {},
   "outputs": [],
   "source": []
  },
  {
   "cell_type": "markdown",
   "id": "bc6519ef-21e2-4cbb-b359-17f0aa7bedf9",
   "metadata": {},
   "source": [
    "# 6/ Extract numerical and categorical feature names"
   ]
  },
  {
   "cell_type": "code",
   "execution_count": null,
   "id": "5919db06-3f18-438a-9002-b798e48bf6f5",
   "metadata": {},
   "outputs": [],
   "source": []
  },
  {
   "cell_type": "code",
   "execution_count": null,
   "id": "973374f3-0d75-4e51-8d6b-8c830f047334",
   "metadata": {},
   "outputs": [],
   "source": []
  },
  {
   "cell_type": "markdown",
   "id": "3c457099-2f60-420c-aacf-af94e9c3de3d",
   "metadata": {},
   "source": [
    "# Pre Processing (Theory)"
   ]
  },
  {
   "cell_type": "markdown",
   "id": "56ea3666-2021-4f69-8d93-6508ee55c369",
   "metadata": {},
   "source": [
    "# 7/ Pre Processing - Getting Started"
   ]
  },
  {
   "cell_type": "code",
   "execution_count": null,
   "id": "f0db6b34-f6a3-4f10-9966-2ee558ff3e99",
   "metadata": {},
   "outputs": [],
   "source": []
  },
  {
   "cell_type": "code",
   "execution_count": null,
   "id": "7cdd968e-e1e2-4c26-b625-52e45c94d366",
   "metadata": {},
   "outputs": [],
   "source": []
  },
  {
   "cell_type": "code",
   "execution_count": null,
   "id": "6753b2fa-ca7e-42c0-b00f-f407c5326e6b",
   "metadata": {},
   "outputs": [],
   "source": []
  },
  {
   "cell_type": "code",
   "execution_count": null,
   "id": "db0a12f4-353f-417c-93f6-0b4ae4109d72",
   "metadata": {},
   "outputs": [],
   "source": []
  },
  {
   "cell_type": "markdown",
   "id": "0baafb7c-934d-42af-bc15-a3a3d795387f",
   "metadata": {},
   "source": [
    "# Model"
   ]
  },
  {
   "cell_type": "code",
   "execution_count": null,
   "id": "431167da-4037-49ad-a1d3-0611dac80eec",
   "metadata": {},
   "outputs": [],
   "source": []
  },
  {
   "cell_type": "markdown",
   "id": "1e00223e-c27a-42d9-88a9-7b678e0b7f8c",
   "metadata": {},
   "source": [
    "# Predict"
   ]
  },
  {
   "cell_type": "code",
   "execution_count": null,
   "id": "a75d0615-2dff-4795-8e0b-6b003cd2d7f4",
   "metadata": {},
   "outputs": [],
   "source": []
  },
  {
   "cell_type": "code",
   "execution_count": null,
   "id": "3eb20232-0b87-4d2d-8e7e-3b0daabbb932",
   "metadata": {},
   "outputs": [],
   "source": []
  },
  {
   "cell_type": "markdown",
   "id": "2cdb08f8-adaa-46e6-a777-b3ccf24b8854",
   "metadata": {},
   "source": [
    "# Check Accuracy"
   ]
  },
  {
   "cell_type": "code",
   "execution_count": null,
   "id": "3491be7d-9c4c-4413-a117-b60934a39b82",
   "metadata": {},
   "outputs": [],
   "source": []
  },
  {
   "cell_type": "code",
   "execution_count": null,
   "id": "6b9c9580-9a90-429b-815c-276fd87e330f",
   "metadata": {},
   "outputs": [],
   "source": []
  },
  {
   "cell_type": "code",
   "execution_count": null,
   "id": "aeddbc70-825f-40b9-8f25-bef81b124995",
   "metadata": {},
   "outputs": [],
   "source": []
  },
  {
   "cell_type": "markdown",
   "id": "98027065-5572-417c-920e-7ab3a1dd2091",
   "metadata": {},
   "source": [
    "# Make Submission and Export "
   ]
  },
  {
   "cell_type": "code",
   "execution_count": null,
   "id": "40724db5-bb9f-4409-bf33-0be11184d298",
   "metadata": {},
   "outputs": [],
   "source": []
  },
  {
   "cell_type": "code",
   "execution_count": null,
   "id": "a142d95e-0a2a-40cd-a229-176ebceb67e0",
   "metadata": {},
   "outputs": [],
   "source": []
  },
  {
   "cell_type": "code",
   "execution_count": null,
   "id": "3e5568c4-f3f1-4528-b2c8-f2322c249efc",
   "metadata": {},
   "outputs": [],
   "source": []
  }
 ],
 "metadata": {
  "kernelspec": {
   "display_name": "Python 3 (ipykernel)",
   "language": "python",
   "name": "python3"
  },
  "language_info": {
   "codemirror_mode": {
    "name": "ipython",
    "version": 3
   },
   "file_extension": ".py",
   "mimetype": "text/x-python",
   "name": "python",
   "nbconvert_exporter": "python",
   "pygments_lexer": "ipython3",
   "version": "3.10.9"
  }
 },
 "nbformat": 4,
 "nbformat_minor": 5
}
